{
 "cells": [
  {
   "cell_type": "code",
   "execution_count": 1,
   "id": "768e1338-7549-46a2-b61c-20bc6451235c",
   "metadata": {},
   "outputs": [
    {
     "name": "stderr",
     "output_type": "stream",
     "text": [
      "/home/muscede2/anaconda3/envs/spaformer/lib/python3.10/site-packages/dgl/backend/pytorch/sparse.py:104: FutureWarning: `torch.cuda.amp.custom_fwd(args...)` is deprecated. Please use `torch.amp.custom_fwd(args..., device_type='cuda')` instead.\n",
      "  @custom_fwd(cast_inputs=th.float16)\n",
      "/home/muscede2/anaconda3/envs/spaformer/lib/python3.10/site-packages/dgl/backend/pytorch/sparse.py:128: FutureWarning: `torch.cuda.amp.custom_bwd(args...)` is deprecated. Please use `torch.amp.custom_bwd(args..., device_type='cuda')` instead.\n",
      "  def backward(ctx, dZ):\n",
      "/home/muscede2/anaconda3/envs/spaformer/lib/python3.10/site-packages/dgl/backend/pytorch/sparse.py:177: FutureWarning: `torch.cuda.amp.custom_fwd(args...)` is deprecated. Please use `torch.amp.custom_fwd(args..., device_type='cuda')` instead.\n",
      "  @custom_fwd(cast_inputs=th.float16)\n",
      "/home/muscede2/anaconda3/envs/spaformer/lib/python3.10/site-packages/dgl/backend/pytorch/sparse.py:207: FutureWarning: `torch.cuda.amp.custom_bwd(args...)` is deprecated. Please use `torch.amp.custom_bwd(args..., device_type='cuda')` instead.\n",
      "  def backward(ctx, *dZ):\n",
      "/home/muscede2/anaconda3/envs/spaformer/lib/python3.10/site-packages/dgl/backend/pytorch/sparse.py:287: FutureWarning: `torch.cuda.amp.custom_fwd(args...)` is deprecated. Please use `torch.amp.custom_fwd(args..., device_type='cuda')` instead.\n",
      "  @custom_fwd(cast_inputs=th.float16)\n",
      "/home/muscede2/anaconda3/envs/spaformer/lib/python3.10/site-packages/dgl/backend/pytorch/sparse.py:304: FutureWarning: `torch.cuda.amp.custom_bwd(args...)` is deprecated. Please use `torch.amp.custom_bwd(args..., device_type='cuda')` instead.\n",
      "  def backward(ctx, dZ):\n",
      "/home/muscede2/anaconda3/envs/spaformer/lib/python3.10/site-packages/dgl/backend/pytorch/sparse.py:352: FutureWarning: `torch.cuda.amp.custom_fwd(args...)` is deprecated. Please use `torch.amp.custom_fwd(args..., device_type='cuda')` instead.\n",
      "  @custom_fwd(cast_inputs=th.float16)\n",
      "/home/muscede2/anaconda3/envs/spaformer/lib/python3.10/site-packages/dgl/backend/pytorch/sparse.py:371: FutureWarning: `torch.cuda.amp.custom_bwd(args...)` is deprecated. Please use `torch.amp.custom_bwd(args..., device_type='cuda')` instead.\n",
      "  def backward(ctx, *dZ):\n",
      "/home/muscede2/anaconda3/envs/spaformer/lib/python3.10/site-packages/dgl/backend/pytorch/sparse.py:431: FutureWarning: `torch.cuda.amp.custom_fwd(args...)` is deprecated. Please use `torch.amp.custom_fwd(args..., device_type='cuda')` instead.\n",
      "  @custom_fwd(cast_inputs=th.float16)\n",
      "/home/muscede2/anaconda3/envs/spaformer/lib/python3.10/site-packages/dgl/backend/pytorch/sparse.py:467: FutureWarning: `torch.cuda.amp.custom_bwd(args...)` is deprecated. Please use `torch.amp.custom_bwd(args..., device_type='cuda')` instead.\n",
      "  def backward(ctx, grad_out):\n",
      "/home/muscede2/anaconda3/envs/spaformer/lib/python3.10/site-packages/dgl/backend/pytorch/sparse.py:498: FutureWarning: `torch.cuda.amp.custom_fwd(args...)` is deprecated. Please use `torch.amp.custom_fwd(args..., device_type='cuda')` instead.\n",
      "  @custom_fwd(cast_inputs=th.float16)\n",
      "/home/muscede2/anaconda3/envs/spaformer/lib/python3.10/site-packages/dgl/backend/pytorch/sparse.py:535: FutureWarning: `torch.cuda.amp.custom_bwd(args...)` is deprecated. Please use `torch.amp.custom_bwd(args..., device_type='cuda')` instead.\n",
      "  def backward(ctx, *grad_out):\n",
      "/home/muscede2/anaconda3/envs/spaformer/lib/python3.10/site-packages/dgl/backend/pytorch/sparse.py:566: FutureWarning: `torch.cuda.amp.custom_fwd(args...)` is deprecated. Please use `torch.amp.custom_fwd(args..., device_type='cuda')` instead.\n",
      "  @custom_fwd(cast_inputs=th.float16)\n",
      "/home/muscede2/anaconda3/envs/spaformer/lib/python3.10/site-packages/dgl/backend/pytorch/sparse.py:575: FutureWarning: `torch.cuda.amp.custom_bwd(args...)` is deprecated. Please use `torch.amp.custom_bwd(args..., device_type='cuda')` instead.\n",
      "  def backward(ctx, dy):\n",
      "/home/muscede2/anaconda3/envs/spaformer/lib/python3.10/site-packages/dgl/backend/pytorch/sparse.py:595: FutureWarning: `torch.cuda.amp.custom_fwd(args...)` is deprecated. Please use `torch.amp.custom_fwd(args..., device_type='cuda')` instead.\n",
      "  @custom_fwd(cast_inputs=th.float16)\n",
      "/home/muscede2/anaconda3/envs/spaformer/lib/python3.10/site-packages/dgl/backend/pytorch/sparse.py:603: FutureWarning: `torch.cuda.amp.custom_bwd(args...)` is deprecated. Please use `torch.amp.custom_bwd(args..., device_type='cuda')` instead.\n",
      "  def backward(ctx, dy):\n",
      "/home/muscede2/anaconda3/envs/spaformer/lib/python3.10/site-packages/dgl/backend/pytorch/sparse.py:666: FutureWarning: `torch.cuda.amp.custom_fwd(args...)` is deprecated. Please use `torch.amp.custom_fwd(args..., device_type='cuda')` instead.\n",
      "  @custom_fwd(cast_inputs=th.float16)\n",
      "/home/muscede2/anaconda3/envs/spaformer/lib/python3.10/site-packages/dgl/backend/pytorch/sparse.py:692: FutureWarning: `torch.cuda.amp.custom_fwd(args...)` is deprecated. Please use `torch.amp.custom_fwd(args..., device_type='cuda')` instead.\n",
      "  @custom_fwd(cast_inputs=th.float16)\n"
     ]
    },
    {
     "name": "stdout",
     "output_type": "stream",
     "text": [
      "All paths OK ✓\n"
     ]
    }
   ],
   "source": [
    "# Cell 1\n",
    "import scanpy as sc\n",
    "import pandas as pd\n",
    "import numpy as np\n",
    "import torch, dgl          # optional, only if you want to build a graph right here\n",
    "from sklearn.neighbors import NearestNeighbors\n",
    "import matplotlib.pyplot as plt\n",
    "from pathlib import Path\n",
    "\n",
    "# paths – adjust if yours differ\n",
    "DATA_DIR = Path(\"Data\")\n",
    "H5_EXPR   = DATA_DIR / \"expression_matrix.h5\"\n",
    "POS_FILE  = DATA_DIR / \"positions.txt\"\n",
    "TIF_IMG   = DATA_DIR / \"histology.tif\"          # optional, only for QC visuals\n",
    "\n",
    "OUT_DIR   = DATA_DIR / \"spaformer_prepared\"\n",
    "OUT_DIR.mkdir(exist_ok=True)\n",
    "\n",
    "print(\"All paths OK ✓\")"
   ]
  },
  {
   "cell_type": "code",
   "execution_count": 2,
   "id": "4f7de629-fc20-4cac-bc5a-cae8246093bf",
   "metadata": {},
   "outputs": [
    {
     "name": "stdout",
     "output_type": "stream",
     "text": [
      "AnnData object with n_obs × n_vars = 4992 × 33538\n",
      "    var: 'gene_ids', 'feature_types', 'genome'\n",
      "genes  : 33538\n",
      "cells  : 4992\n"
     ]
    },
    {
     "name": "stderr",
     "output_type": "stream",
     "text": [
      "/home/muscede2/anaconda3/envs/spaformer/lib/python3.10/site-packages/anndata/_core/anndata.py:1758: UserWarning: Variable names are not unique. To make them unique, call `.var_names_make_unique`.\n",
      "  utils.warn_names_duplicates(\"var\")\n",
      "/home/muscede2/anaconda3/envs/spaformer/lib/python3.10/site-packages/anndata/_core/anndata.py:1758: UserWarning: Variable names are not unique. To make them unique, call `.var_names_make_unique`.\n",
      "  utils.warn_names_duplicates(\"var\")\n"
     ]
    }
   ],
   "source": [
    "# Cell 2\n",
    "# 10x-style .h5 files can be read with scanpy.read_10x_h5\n",
    "try:\n",
    "    adata = sc.read_10x_h5(H5_EXPR)\n",
    "except Exception as e:\n",
    "    # If the file is an AnnData .h5ad produced elsewhere, fall back:\n",
    "    adata = sc.read_h5ad(H5_EXPR)\n",
    "\n",
    "print(adata)\n",
    "print(\"genes  :\", adata.n_vars)\n",
    "print(\"cells  :\", adata.n_obs)"
   ]
  },
  {
   "cell_type": "code",
   "execution_count": 3,
   "id": "24f685d9-f49f-42ed-8e7b-569df29447bc",
   "metadata": {},
   "outputs": [
    {
     "name": "stdout",
     "output_type": "stream",
     "text": [
      "Spatial coords shape: (4992, 2)\n"
     ]
    }
   ],
   "source": [
    "# Cell 3\n",
    "cols = [\"barcode\", \"fov\", \"unused1\", \"unused2\", \"x\", \"y\"]\n",
    "pos   = pd.read_csv(POS_FILE, header=None, names=cols)\n",
    "\n",
    "# keep only relevant columns and ensure order matches adata.obs_names\n",
    "pos = pos.set_index(\"barcode\").loc[adata.obs_names]\n",
    "coords = pos[[\"x\", \"y\"]].to_numpy(float)\n",
    "\n",
    "# min-max normalise to [0,1] – SpaFormer uses that range\n",
    "coords_min = coords.min(0, keepdims=True)\n",
    "coords_ptp = coords.max(0, keepdims=True) - coords_min\n",
    "coords_norm = (coords - coords_min) / coords_ptp\n",
    "\n",
    "# store in AnnData for convenience\n",
    "adata.obsm[\"spatial\"] = coords_norm\n",
    "print(\"Spatial coords shape:\", coords_norm.shape)"
   ]
  },
  {
   "cell_type": "code",
   "execution_count": 4,
   "id": "8b947d5d-0b13-492d-a090-a141d53ebcb3",
   "metadata": {},
   "outputs": [
    {
     "name": "stderr",
     "output_type": "stream",
     "text": [
      "/home/muscede2/anaconda3/envs/spaformer/lib/python3.10/site-packages/scanpy/preprocessing/_highly_variable_genes.py:75: UserWarning: `flavor='seurat_v3'` expects raw count data, but non-integers were found.\n",
      "  warnings.warn(\n"
     ]
    },
    {
     "name": "stdout",
     "output_type": "stream",
     "text": [
      "After HVG filter  →  genes: 3004   cells: 4992\n"
     ]
    },
    {
     "name": "stderr",
     "output_type": "stream",
     "text": [
      "/home/muscede2/anaconda3/envs/spaformer/lib/python3.10/site-packages/anndata/_core/anndata.py:1758: UserWarning: Variable names are not unique. To make them unique, call `.var_names_make_unique`.\n",
      "  utils.warn_names_duplicates(\"var\")\n"
     ]
    }
   ],
   "source": [
    "# Cell 4\n",
    "sc.pp.normalize_total(adata, target_sum=1e4)\n",
    "sc.pp.log1p(adata)\n",
    "sc.pp.highly_variable_genes(adata, n_top_genes=3000, flavor=\"seurat_v3\")\n",
    "adata = adata[:, adata.var[\"highly_variable\"]].copy()\n",
    "\n",
    "print(\"After HVG filter  →  genes:\", adata.n_vars, \"  cells:\", adata.n_obs)"
   ]
  },
  {
   "cell_type": "code",
   "execution_count": 5,
   "id": "b9e2b171-e70e-43e7-9191-0d6fe1b3e40d",
   "metadata": {},
   "outputs": [
    {
     "name": "stdout",
     "output_type": "stream",
     "text": [
      "Edge index shape: (2, 29952)\n",
      "Graph(num_nodes=4992, num_edges=29952,\n",
      "      ndata_schemes={'feat': Scheme(shape=(3004,), dtype=torch.float32), 'pos': Scheme(shape=(2,), dtype=torch.float32)}\n",
      "      edata_schemes={})\n"
     ]
    }
   ],
   "source": [
    "# Cell 5\n",
    "k = 6                      # number of neighbours\n",
    "nbrs = NearestNeighbors(n_neighbors=k+1, metric=\"euclidean\").fit(coords_norm)\n",
    "_, idx = nbrs.kneighbors(coords_norm)\n",
    "\n",
    "# build edge index\n",
    "src = np.repeat(np.arange(adata.n_obs), k)\n",
    "dst = idx[:, 1:].reshape(-1)\n",
    "edges = np.stack([src, dst], axis=0).astype(np.int32)\n",
    "\n",
    "print(\"Edge index shape:\", edges.shape)   # (2, E)\n",
    "\n",
    "# Quick DGL graph (optional)\n",
    "g = dgl.graph((edges[0], edges[1]), num_nodes=adata.n_obs)\n",
    "g.ndata[\"feat\"] = torch.from_numpy(adata.X.toarray()).float()   # (cells × genes)\n",
    "g.ndata[\"pos\"]  = torch.from_numpy(coords_norm).float()\n",
    "print(g)"
   ]
  },
  {
   "cell_type": "code",
   "execution_count": 6,
   "id": "38eb85fb-d789-48b8-83c5-7ed95740e281",
   "metadata": {},
   "outputs": [
    {
     "name": "stdout",
     "output_type": "stream",
     "text": [
      "Saved: [PosixPath('Data/spaformer_prepared/X.npy'), PosixPath('Data/spaformer_prepared/C.npy'), PosixPath('Data/spaformer_prepared/edges.npy')]\n"
     ]
    }
   ],
   "source": [
    "# Cell 6\n",
    "np.save(OUT_DIR / \"X.npy\",      adata.X.toarray().astype(np.float32))\n",
    "np.save(OUT_DIR / \"C.npy\",      coords_norm.astype(np.float32))\n",
    "np.save(OUT_DIR / \"edges.npy\",  edges)\n",
    "\n",
    "print(\"Saved:\", list(OUT_DIR.iterdir()))"
   ]
  },
  {
   "cell_type": "code",
   "execution_count": 7,
   "id": "75959077-abe1-4e17-836a-873317c7e631",
   "metadata": {},
   "outputs": [
    {
     "data": {
      "image/png": "[encoded data removed]",
      "text/plain": [
       "<Figure size 500x500 with 1 Axes>"
      ]
     },
     "metadata": {},
     "output_type": "display_data"
    }
   ],
   "source": [
    "# Cell 7\n",
    "plt.figure(figsize=(5,5))\n",
    "plt.scatter(coords_norm[:,0], coords_norm[:,1], s=3, c=\"k\")\n",
    "plt.title(\"Cell centroids (normalised)\")\n",
    "plt.gca().set_aspect(\"equal\")\n",
    "plt.show()"
   ]
  },
  {
   "cell_type": "code",
   "execution_count": 9,
   "id": "1d800333-edbd-4b6b-b650-fd636fe4772a",
   "metadata": {},
   "outputs": [
    {
     "name": "stdout",
     "output_type": "stream",
     "text": [
      "X: (4992, 3004) float32\n",
      "C: (4992, 2) 0.0 1.0\n",
      "edges: (2, 29952) int32\n"
     ]
    },
    {
     "data": {
      "text/html": [
       "<div>\n",
       "<style scoped>\n",
       "    .dataframe tbody tr th:only-of-type {\n",
       "        vertical-align: middle;\n",
       "    }\n",
       "\n",
       "    .dataframe tbody tr th {\n",
       "        vertical-align: top;\n",
       "    }\n",
       "\n",
       "    .dataframe thead th {\n",
       "        text-align: right;\n",
       "    }\n",
       "</style>\n",
       "<table border=\"1\" class=\"dataframe\">\n",
       "  <thead>\n",
       "    <tr style=\"text-align: right;\">\n",
       "      <th></th>\n",
       "      <th>x_norm</th>\n",
       "      <th>y_norm</th>\n",
       "    </tr>\n",
       "  </thead>\n",
       "  <tbody>\n",
       "    <tr>\n",
       "      <th>0</th>\n",
       "      <td>0.000861</td>\n",
       "      <td>0.132577</td>\n",
       "    </tr>\n",
       "    <tr>\n",
       "      <th>1</th>\n",
       "      <td>0.650409</td>\n",
       "      <td>0.799773</td>\n",
       "    </tr>\n",
       "    <tr>\n",
       "      <th>2</th>\n",
       "      <td>0.040913</td>\n",
       "      <td>0.343246</td>\n",
       "    </tr>\n",
       "    <tr>\n",
       "      <th>3</th>\n",
       "      <td>0.762059</td>\n",
       "      <td>0.150170</td>\n",
       "    </tr>\n",
       "    <tr>\n",
       "      <th>4</th>\n",
       "      <td>0.185616</td>\n",
       "      <td>0.740749</td>\n",
       "    </tr>\n",
       "  </tbody>\n",
       "</table>\n",
       "</div>"
      ],
      "text/plain": [
       "     x_norm    y_norm\n",
       "0  0.000861  0.132577\n",
       "1  0.650409  0.799773\n",
       "2  0.040913  0.343246\n",
       "3  0.762059  0.150170\n",
       "4  0.185616  0.740749"
      ]
     },
     "execution_count": 9,
     "metadata": {},
     "output_type": "execute_result"
    }
   ],
   "source": [
    "import numpy as np, pandas as pd\n",
    "import os\n",
    "\n",
    "base = \"Data/spaformer_prepared\"\n",
    "\n",
    "# load the pre-processed arrays\n",
    "X     = np.load(os.path.join(base, \"X.npy\"))       # expression matrix\n",
    "C     = np.load(os.path.join(base, \"C.npy\"))       # normalized (x,y)\n",
    "edges = np.load(os.path.join(base, \"edges.npy\"))   # adjacency\n",
    "\n",
    "# sanity‐check\n",
    "print(\"X:\",     X.shape,     X.dtype)\n",
    "print(\"C:\",     C.shape,     C.min(), C.max())\n",
    "print(\"edges:\", edges.shape, edges.dtype)\n",
    "\n",
    "# quick peek at the first 5 coordinates\n",
    "pd.DataFrame(C[:5], columns=[\"x_norm\",\"y_norm\"])"
   ]
  },
  {
   "cell_type": "code",
   "execution_count": null,
   "id": "f541a196-725d-4293-a33a-5c199515b44d",
   "metadata": {},
   "outputs": [],
   "source": []
  }
 ],
 "metadata": {
  "kernelspec": {
   "display_name": "Python (spaformer)",
   "language": "python",
   "name": "spaformer"
  },
  "language_info": {
   "codemirror_mode": {
    "name": "ipython",
    "version": 3
   },
   "file_extension": ".py",
   "mimetype": "text/x-python",
   "name": "python",
   "nbconvert_exporter": "python",
   "pygments_lexer": "ipython3",
   "version": "3.10.16"
  }
 },
 "nbformat": 4,
 "nbformat_minor": 5
}
